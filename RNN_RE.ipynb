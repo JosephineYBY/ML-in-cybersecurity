{
 "cells": [
  {
   "cell_type": "code",
   "execution_count": 1,
   "metadata": {},
   "outputs": [],
   "source": [
    "import numpy as np\n",
    "import tensorflow as tf"
   ]
  },
  {
   "cell_type": "code",
   "execution_count": 2,
   "metadata": {},
   "outputs": [],
   "source": [
    "train_vector=np.loadtxt('E:\\\\Biyun Yan\\\\wpi\\\\machine learning in cyber scurity\\\\pro4\\\\PRNG-Dataset\\\\128-bit\\\\train_128bit.txt',delimiter=\",\")\n",
    "validation_vector=np.loadtxt('E:\\\\Biyun Yan\\\\wpi\\\\machine learning in cyber scurity\\\\pro4\\\\PRNG-Dataset\\\\128-bit\\\\val_128bit.txt',delimiter=\",\")\n",
    "test_vector=np.loadtxt('E:\\\\Biyun Yan\\\\wpi\\\\machine learning in cyber scurity\\\\pro4\\\\PRNG-Dataset\\\\128-bit\\\\test_128bit.txt',delimiter=\",\")"
   ]
  },
  {
   "cell_type": "code",
   "execution_count": 3,
   "metadata": {},
   "outputs": [],
   "source": [
    "train_data=train_vector[:,:-1]\n",
    "train_label=train_vector[:,-1]\n",
    "\n",
    "validation_data=validation_vector[:,:-1]\n",
    "validation_label=validation_vector[:,-1]\n",
    "\n",
    "test_data=test_vector[:,:-1]\n",
    "test_label=test_vector[:,-1]\n",
    "\n",
    "vector_size=train_data.shape[1]"
   ]
  },
  {
   "cell_type": "code",
   "execution_count": 4,
   "metadata": {},
   "outputs": [],
   "source": [
    "train_x=np.zeros((train_data.shape[0],vector_size,vector_size))\n",
    "for i in range(train_data.shape[0]):\n",
    "    train_x[i]=np.eye(vector_size)[np.array(train_data[i],dtype=np.int)]\n",
    "\n",
    "test_x=np.zeros((test_data.shape[0],vector_size,vector_size))\n",
    "for i in range(test_data.shape[0]):\n",
    "    test_x[i]=np.eye(vector_size)[np.array(test_data[i],dtype=np.int)]\n",
    "\n",
    "val_x=np.zeros((validation_data.shape[0],vector_size,vector_size))\n",
    "for i in range(validation_data.shape[0]):\n",
    "    val_x[i]=np.eye(vector_size)[np.array(validation_data[i],dtype=np.int)]\n",
    "\n",
    "train_y=train_label-1\n",
    "test_y=test_label-1\n",
    "val_y=validation_label-1"
   ]
  },
  {
   "cell_type": "code",
   "execution_count": 5,
   "metadata": {},
   "outputs": [
    {
     "name": "stdout",
     "output_type": "stream",
     "text": [
      "\n",
      "WARNING: The TensorFlow contrib module will not be included in TensorFlow 2.0.\n",
      "For more information, please see:\n",
      "  * https://github.com/tensorflow/community/blob/master/rfcs/20180907-contrib-sunset.md\n",
      "  * https://github.com/tensorflow/addons\n",
      "If you depend on functionality not listed there, please file an issue.\n",
      "\n",
      "WARNING:tensorflow:From <ipython-input-5-3f42b5f9b026>:4: BasicRNNCell.__init__ (from tensorflow.python.ops.rnn_cell_impl) is deprecated and will be removed in a future version.\n",
      "Instructions for updating:\n",
      "This class is equivalent as tf.keras.layers.SimpleRNNCell, and will be replaced by that in Tensorflow 2.0.\n",
      "WARNING:tensorflow:From <ipython-input-5-3f42b5f9b026>:5: dynamic_rnn (from tensorflow.python.ops.rnn) is deprecated and will be removed in a future version.\n",
      "Instructions for updating:\n",
      "Please use `keras.layers.RNN(cell)`, which is equivalent to this API\n",
      "WARNING:tensorflow:From C:\\Users\\motto\\Anaconda3\\lib\\site-packages\\tensorflow\\python\\ops\\tensor_array_ops.py:162: colocate_with (from tensorflow.python.framework.ops) is deprecated and will be removed in a future version.\n",
      "Instructions for updating:\n",
      "Colocations handled automatically by placer.\n",
      "WARNING:tensorflow:From <ipython-input-5-3f42b5f9b026>:8: flatten (from tensorflow.python.layers.core) is deprecated and will be removed in a future version.\n",
      "Instructions for updating:\n",
      "Use keras.layers.flatten instead.\n",
      "WARNING:tensorflow:From <ipython-input-5-3f42b5f9b026>:10: dense (from tensorflow.python.layers.core) is deprecated and will be removed in a future version.\n",
      "Instructions for updating:\n",
      "Use keras.layers.dense instead.\n",
      "WARNING:tensorflow:From <ipython-input-5-3f42b5f9b026>:11: arg_max (from tensorflow.python.ops.gen_math_ops) is deprecated and will be removed in a future version.\n",
      "Instructions for updating:\n",
      "Use `tf.math.argmax` instead\n",
      "WARNING:tensorflow:From <ipython-input-5-3f42b5f9b026>:12: softmax_cross_entropy_with_logits (from tensorflow.python.ops.nn_ops) is deprecated and will be removed in a future version.\n",
      "Instructions for updating:\n",
      "\n",
      "Future major versions of TensorFlow will allow gradients to flow\n",
      "into the labels input on backprop by default.\n",
      "\n",
      "See `tf.nn.softmax_cross_entropy_with_logits_v2`.\n",
      "\n"
     ]
    }
   ],
   "source": [
    "x_placeholder=tf.placeholder(tf.float32,[None,vector_size,vector_size])\n",
    "y_placeholder=tf.placeholder(tf.int32,[None])\n",
    "\n",
    "basic_cell=tf.contrib.rnn.BasicRNNCell(num_units=200)\n",
    "outputs,states=tf.nn.dynamic_rnn(basic_cell,x_placeholder,dtype=tf.float32)\n",
    "\n",
    "flatten=tf.layers.flatten(states)#none,100\n",
    "#fc=tf.layers.dense(flatten,20,activation=tf.nn.relu)\n",
    "logits=tf.layers.dense(flatten,8)\n",
    "predicted_labels=tf.arg_max(logits,1)\n",
    "losses=tf.nn.softmax_cross_entropy_with_logits(labels=tf.one_hot(y_placeholder,8),logits=logits)\n",
    "mean_loss=tf.reduce_mean(losses)\n",
    "optimizer=tf.train.AdamOptimizer(learning_rate=0.01).minimize(losses)"
   ]
  },
  {
   "cell_type": "code",
   "execution_count": null,
   "metadata": {},
   "outputs": [],
   "source": [
    "saver=tf.train.Saver()\n",
    "with tf.Session() as sess:\n",
    "    sess.run(tf.global_variables_initializer())\n",
    "    train_feed_dict={x_placeholder:train_x,y_placeholder:train_y}\n",
    "    val_feed_dict={x_placeholder:val_x,y_placeholder:val_y}\n",
    "    max_acc=0\n",
    "    for step in range(50):\n",
    "        _,mean_loss_val,predicted_labels_val=sess.run([optimizer,mean_loss,predicted_labels],feed_dict=train_feed_dict)\n",
    "        predicted_labels_validation=sess.run([predicted_labels],feed_dict=val_feed_dict)\n",
    "        acc=np.sum(predicted_labels_validation==val_y)/val_y.shape[0]\n",
    "        print(step,mean_loss_val,acc)\n",
    "        if acc>max_acc:\n",
    "            max_acc=acc\n",
    "            print(\"saving model\")\n",
    "            saver.save(sess,'model_rnn/')"
   ]
  },
  {
   "cell_type": "code",
   "execution_count": null,
   "metadata": {
    "scrolled": true
   },
   "outputs": [],
   "source": [
    "with tf.Session() as sess:\n",
    "    saver.restore(sess,'model_rnn/')\n",
    "    test_feed_dict={x_placeholder:test_x,y_placeholder:test_y}\n",
    "    predicted_labels_val=sess.run(predicted_labels,feed_dict=test_feed_dict)\n",
    "    acc=np.sum(predicted_labels_val==test_y)/test_x.shape[0]\n",
    "    print(acc)"
   ]
  },
  {
   "cell_type": "code",
   "execution_count": null,
   "metadata": {},
   "outputs": [],
   "source": []
  },
  {
   "cell_type": "code",
   "execution_count": null,
   "metadata": {},
   "outputs": [],
   "source": []
  }
 ],
 "metadata": {
  "kernelspec": {
   "display_name": "Python 3",
   "language": "python",
   "name": "python3"
  },
  "language_info": {
   "codemirror_mode": {
    "name": "ipython",
    "version": 3
   },
   "file_extension": ".py",
   "mimetype": "text/x-python",
   "name": "python",
   "nbconvert_exporter": "python",
   "pygments_lexer": "ipython3",
   "version": "3.6.8"
  }
 },
 "nbformat": 4,
 "nbformat_minor": 2
}
